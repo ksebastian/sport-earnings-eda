{
 "cells": [
  {
   "cell_type": "code",
   "execution_count": 2,
   "id": "2f7bef8d-4c02-42a6-8879-096e2f34f512",
   "metadata": {},
   "outputs": [],
   "source": [
    "import pandas as pd\n",
    "import numpy as np\n",
    "import matplotlib as plt"
   ]
  },
  {
   "cell_type": "code",
   "execution_count": 3,
   "id": "9611cf48-2ad1-48ac-82cb-2d1c0d12cc8d",
   "metadata": {},
   "outputs": [
    {
     "data": {
      "text/html": [
       "<div>\n",
       "<style scoped>\n",
       "    .dataframe tbody tr th:only-of-type {\n",
       "        vertical-align: middle;\n",
       "    }\n",
       "\n",
       "    .dataframe tbody tr th {\n",
       "        vertical-align: top;\n",
       "    }\n",
       "\n",
       "    .dataframe thead th {\n",
       "        text-align: right;\n",
       "    }\n",
       "</style>\n",
       "<table border=\"1\" class=\"dataframe\">\n",
       "  <thead>\n",
       "    <tr style=\"text-align: right;\">\n",
       "      <th></th>\n",
       "      <th>Name</th>\n",
       "      <th>Earnings</th>\n",
       "      <th>Year</th>\n",
       "      <th>Sport</th>\n",
       "    </tr>\n",
       "  </thead>\n",
       "  <tbody>\n",
       "    <tr>\n",
       "      <th>0</th>\n",
       "      <td>Conor McGregor</td>\n",
       "      <td>180.0</td>\n",
       "      <td>2021</td>\n",
       "      <td>Mixed Martial Arts</td>\n",
       "    </tr>\n",
       "    <tr>\n",
       "      <th>1</th>\n",
       "      <td>Lionel Messi</td>\n",
       "      <td>130.0</td>\n",
       "      <td>2021</td>\n",
       "      <td>Soccer</td>\n",
       "    </tr>\n",
       "    <tr>\n",
       "      <th>2</th>\n",
       "      <td>Cristiano Ronaldo</td>\n",
       "      <td>120.0</td>\n",
       "      <td>2021</td>\n",
       "      <td>Soccer</td>\n",
       "    </tr>\n",
       "    <tr>\n",
       "      <th>3</th>\n",
       "      <td>Dak Prescott</td>\n",
       "      <td>107.5</td>\n",
       "      <td>2021</td>\n",
       "      <td>Football</td>\n",
       "    </tr>\n",
       "    <tr>\n",
       "      <th>4</th>\n",
       "      <td>LeBron James</td>\n",
       "      <td>96.5</td>\n",
       "      <td>2021</td>\n",
       "      <td>Basketball</td>\n",
       "    </tr>\n",
       "  </tbody>\n",
       "</table>\n",
       "</div>"
      ],
      "text/plain": [
       "                Name  Earnings  Year               Sport\n",
       "0     Conor McGregor     180.0  2021  Mixed Martial Arts\n",
       "1       Lionel Messi     130.0  2021              Soccer\n",
       "2  Cristiano Ronaldo     120.0  2021              Soccer\n",
       "3       Dak Prescott     107.5  2021            Football\n",
       "4       LeBron James      96.5  2021          Basketball"
      ]
     },
     "execution_count": 3,
     "metadata": {},
     "output_type": "execute_result"
    }
   ],
   "source": [
    "# load the sports data salaries file\n",
    "salary_df = pd.read_csv('../data/forbesathletesv2.csv')\n",
    "salary_df.head()"
   ]
  },
  {
   "cell_type": "code",
   "execution_count": 4,
   "id": "d7f21d85-be6f-403f-833f-b181c9099008",
   "metadata": {},
   "outputs": [
    {
     "data": {
      "text/plain": [
       "Index(['Name', 'Earnings', 'Year', 'Sport'], dtype='object')"
      ]
     },
     "execution_count": 4,
     "metadata": {},
     "output_type": "execute_result"
    }
   ],
   "source": [
    "salary_df.columns"
   ]
  },
  {
   "cell_type": "code",
   "execution_count": 5,
   "id": "f1858d50-093f-44a9-8c62-80e051e872df",
   "metadata": {},
   "outputs": [
    {
     "data": {
      "text/plain": [
       "(1659, 4)"
      ]
     },
     "execution_count": 5,
     "metadata": {},
     "output_type": "execute_result"
    }
   ],
   "source": [
    "salary_df.shape"
   ]
  },
  {
   "cell_type": "code",
   "execution_count": 6,
   "id": "5611ccfc-f41e-4de3-afc1-250de5d30abf",
   "metadata": {},
   "outputs": [
    {
     "data": {
      "text/plain": [
       "Name         object\n",
       "Earnings    float64\n",
       "Year          int64\n",
       "Sport        object\n",
       "dtype: object"
      ]
     },
     "execution_count": 6,
     "metadata": {},
     "output_type": "execute_result"
    }
   ],
   "source": [
    "salary_df.dtypes"
   ]
  },
  {
   "cell_type": "code",
   "execution_count": 7,
   "id": "2daa5cc5-9b3d-4d76-a9e2-29e5c5f8800b",
   "metadata": {},
   "outputs": [
    {
     "data": {
      "text/plain": [
       "Name        0\n",
       "Earnings    0\n",
       "Year        0\n",
       "Sport       0\n",
       "dtype: int64"
      ]
     },
     "execution_count": 7,
     "metadata": {},
     "output_type": "execute_result"
    }
   ],
   "source": [
    "#is there any missing data\n",
    "salary_df.isnull().sum().sort_values(ascending=False)"
   ]
  },
  {
   "cell_type": "code",
   "execution_count": 9,
   "id": "9e3ec484-c087-48ce-bb77-46f8662b8ebf",
   "metadata": {},
   "outputs": [
    {
     "data": {
      "text/plain": [
       "array([2021, 2020, 2019, 2018, 2017, 2016, 2015, 2014, 2013, 2012, 2011,\n",
       "       2010, 2009, 2008, 2007, 2006, 2005, 2004, 2003, 2002, 2000, 1999,\n",
       "       1998, 1997, 1996, 1995, 1994, 1993, 1992, 1991, 1990])"
      ]
     },
     "execution_count": 9,
     "metadata": {},
     "output_type": "execute_result"
    }
   ],
   "source": [
    "# any missing years?\n",
    "salary_df.Year.unique()"
   ]
  },
  {
   "cell_type": "code",
   "execution_count": 10,
   "id": "8681e725-cb8d-4c7f-aed5-3897c80315bd",
   "metadata": {},
   "outputs": [
    {
     "data": {
      "text/plain": [
       "Basketball            403\n",
       "Baseball              285\n",
       "Football              260\n",
       "Tennis                158\n",
       "Soccer                147\n",
       "Racing                138\n",
       "Golf                  123\n",
       "Boxing                100\n",
       "Hockey                 14\n",
       "Cricket                10\n",
       "Track                   7\n",
       "Cycling                 5\n",
       "Mixed Martial Arts      4\n",
       "Football/Baseball       3\n",
       "MMA                     2\n",
       "Name: Sport, dtype: int64"
      ]
     },
     "execution_count": 10,
     "metadata": {},
     "output_type": "execute_result"
    }
   ],
   "source": [
    "# how many salaries per sport are covered\n",
    "salary_df['Sport'].value_counts()"
   ]
  },
  {
   "cell_type": "code",
   "execution_count": 12,
   "id": "26b30ddd-1891-43e0-8f26-33092ff1ef0c",
   "metadata": {},
   "outputs": [
    {
     "data": {
      "text/html": [
       "<div>\n",
       "<style scoped>\n",
       "    .dataframe tbody tr th:only-of-type {\n",
       "        vertical-align: middle;\n",
       "    }\n",
       "\n",
       "    .dataframe tbody tr th {\n",
       "        vertical-align: top;\n",
       "    }\n",
       "\n",
       "    .dataframe thead th {\n",
       "        text-align: right;\n",
       "    }\n",
       "</style>\n",
       "<table border=\"1\" class=\"dataframe\">\n",
       "  <thead>\n",
       "    <tr style=\"text-align: right;\">\n",
       "      <th></th>\n",
       "      <th>Name</th>\n",
       "      <th>Earnings</th>\n",
       "      <th>Year</th>\n",
       "      <th>Sport</th>\n",
       "    </tr>\n",
       "  </thead>\n",
       "  <tbody>\n",
       "    <tr>\n",
       "      <th>550</th>\n",
       "      <td>Floyd Mayweather</td>\n",
       "      <td>300.0</td>\n",
       "      <td>2015</td>\n",
       "      <td>Boxing</td>\n",
       "    </tr>\n",
       "    <tr>\n",
       "      <th>250</th>\n",
       "      <td>Floyd Mayweather</td>\n",
       "      <td>285.0</td>\n",
       "      <td>2018</td>\n",
       "      <td>Boxing</td>\n",
       "    </tr>\n",
       "    <tr>\n",
       "      <th>0</th>\n",
       "      <td>Conor McGregor</td>\n",
       "      <td>180.0</td>\n",
       "      <td>2021</td>\n",
       "      <td>Mixed Martial Arts</td>\n",
       "    </tr>\n",
       "    <tr>\n",
       "      <th>551</th>\n",
       "      <td>Manny Pacquiao</td>\n",
       "      <td>160.0</td>\n",
       "      <td>2015</td>\n",
       "      <td>Boxing</td>\n",
       "    </tr>\n",
       "    <tr>\n",
       "      <th>1</th>\n",
       "      <td>Lionel Messi</td>\n",
       "      <td>130.0</td>\n",
       "      <td>2021</td>\n",
       "      <td>Soccer</td>\n",
       "    </tr>\n",
       "    <tr>\n",
       "      <th>...</th>\n",
       "      <td>...</td>\n",
       "      <td>...</td>\n",
       "      <td>...</td>\n",
       "      <td>...</td>\n",
       "    </tr>\n",
       "    <tr>\n",
       "      <th>1627</th>\n",
       "      <td>Curtis Strange</td>\n",
       "      <td>4.0</td>\n",
       "      <td>1991</td>\n",
       "      <td>Golf</td>\n",
       "    </tr>\n",
       "    <tr>\n",
       "      <th>1656</th>\n",
       "      <td>Gerhard Berger</td>\n",
       "      <td>4.0</td>\n",
       "      <td>1990</td>\n",
       "      <td>Racing</td>\n",
       "    </tr>\n",
       "    <tr>\n",
       "      <th>1628</th>\n",
       "      <td>Joe Carter</td>\n",
       "      <td>3.9</td>\n",
       "      <td>1991</td>\n",
       "      <td>Baseball</td>\n",
       "    </tr>\n",
       "    <tr>\n",
       "      <th>1657</th>\n",
       "      <td>Curtis Strange</td>\n",
       "      <td>3.8</td>\n",
       "      <td>1990</td>\n",
       "      <td>Golf</td>\n",
       "    </tr>\n",
       "    <tr>\n",
       "      <th>1658</th>\n",
       "      <td>Will Clark</td>\n",
       "      <td>3.8</td>\n",
       "      <td>1990</td>\n",
       "      <td>Baseball</td>\n",
       "    </tr>\n",
       "  </tbody>\n",
       "</table>\n",
       "<p>1659 rows × 4 columns</p>\n",
       "</div>"
      ],
      "text/plain": [
       "                  Name  Earnings  Year               Sport\n",
       "550   Floyd Mayweather     300.0  2015              Boxing\n",
       "250   Floyd Mayweather     285.0  2018              Boxing\n",
       "0       Conor McGregor     180.0  2021  Mixed Martial Arts\n",
       "551     Manny Pacquiao     160.0  2015              Boxing\n",
       "1         Lionel Messi     130.0  2021              Soccer\n",
       "...                ...       ...   ...                 ...\n",
       "1627    Curtis Strange       4.0  1991                Golf\n",
       "1656    Gerhard Berger       4.0  1990              Racing\n",
       "1628        Joe Carter       3.9  1991            Baseball\n",
       "1657    Curtis Strange       3.8  1990                Golf\n",
       "1658        Will Clark       3.8  1990            Baseball\n",
       "\n",
       "[1659 rows x 4 columns]"
      ]
     },
     "execution_count": 12,
     "metadata": {},
     "output_type": "execute_result"
    }
   ],
   "source": [
    "# which person has highest earnings\n",
    "salary_df.sort_values(by='Earnings', ascending = False)"
   ]
  },
  {
   "cell_type": "code",
   "execution_count": 17,
   "id": "0b51664b-cd48-424c-8f45-1ac92bf56785",
   "metadata": {},
   "outputs": [
    {
     "data": {
      "text/plain": [
       "<AxesSubplot:xlabel='Sport'>"
      ]
     },
     "execution_count": 17,
     "metadata": {},
     "output_type": "execute_result"
    },
    {
     "data": {
      "image/png": "[encoded data removed]",
      "text/plain": [
       "<Figure size 432x288 with 1 Axes>"
      ]
     },
     "metadata": {
      "needs_background": "light"
     },
     "output_type": "display_data"
    }
   ],
   "source": [
    "# top 10 sports sport with highest average earnings\n",
    "salary_df.groupby('Sport')['Earnings'].mean().sort_values(ascending=False).head(10).plot(kind='bar')"
   ]
  },
  {
   "cell_type": "code",
   "execution_count": null,
   "id": "6970cfb5-ded5-41a9-954a-463206a02d18",
   "metadata": {},
   "outputs": [],
   "source": []
  }
 ],
 "metadata": {
  "kernelspec": {
   "display_name": "default:Python",
   "language": "python",
   "name": "conda-env-default-py"
  },
  "language_info": {
   "codemirror_mode": {
    "name": "ipython",
    "version": 3
   },
   "file_extension": ".py",
   "mimetype": "text/x-python",
   "name": "python",
   "nbconvert_exporter": "python",
   "pygments_lexer": "ipython3",
   "version": "3.9.13"
  }
 },
 "nbformat": 4,
 "nbformat_minor": 5
}
